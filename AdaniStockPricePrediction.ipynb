{
  "nbformat": 4,
  "nbformat_minor": 0,
  "metadata": {
    "colab": {
      "provenance": []
    },
    "kernelspec": {
      "name": "python3",
      "display_name": "Python 3"
    },
    "language_info": {
      "name": "python"
    }
  },
  "cells": [
    {
      "cell_type": "markdown",
      "source": [
        "The provided code retrieves historical stock data for Adani using `yfinance`, preprocesses and normalizes the data, builds an LSTM model with two LSTM layers, and trains the model using the specified data split. It then makes predictions on the training, validation, and testing data, and visualizes the actual and predicted stock prices using `matplotlib.pyplot`."
      ],
      "metadata": {
        "id": "EsIbxqFeKRS8"
      }
    },
    {
      "cell_type": "markdown",
      "source": [
        "Certainly! Here's a detailed explanation of the provided code:\n",
        "\n",
        "1. **Data Collection**: The code starts by importing the necessary libraries and packages. It then uses the `yfinance` library to retrieve historical stock data for Adani from the specified start and end dates.\n",
        "\n",
        "2. **Data Preprocessing**: The 'Close' prices from the retrieved stock data are extracted and stored in a dataframe called `df`. This dataframe contains the target variable for our prediction task.\n",
        "\n",
        "3. **Data Normalization**: To ensure numerical stability and comparability across different features, the 'Close' prices are normalized using the `MinMaxScaler` from `sklearn.preprocessing`. The scaled data is stored in the `scaled_data` variable.\n",
        "\n",
        "4. **Prepare the data for LSTM**: The code prepares the data for LSTM training by creating input sequences (`X`) and corresponding target values (`y`). It uses a sliding window approach, where each input sequence contains a window of previous 'Close' prices, and the corresponding target value is the next 'Close' price.\n",
        "\n",
        "5. **Reshape the data**: The input sequences (`X`) are reshaped into a 3D array, as expected by the LSTM model, with dimensions `[samples, time steps, features]`. In this case, the input shape becomes `(number of samples, window size, 1)`.\n",
        "\n",
        "6. **Split the data into training, validation, and testing sets**: The data is split into training, validation, and testing sets using the specified ratios. The training set comprises 70% of the data, the validation set comprises 15%, and the remaining 15% is used for testing.\n",
        "\n",
        "7. **Build the LSTM model**: A sequential model is created using `Sequential` from `tensorflow.keras.models`. The model consists of two LSTM layers with 50 units each, followed by a dense output layer with 1 unit.\n",
        "\n",
        "8. **Compile and train the model**: The model is compiled with the 'adam' optimizer and the mean squared error (MSE) loss function. It is then trained on the training data for a specified number of epochs and batch size. Additionally, the validation data is provided to monitor the model's performance during training.\n",
        "\n",
        "9. **Make predictions**: The trained model is used to make predictions on the training, validation, and testing data.\n",
        "\n",
        "10. **Inverse transform the predictions**: The predicted values are inverted back to their original scale using the `inverse_transform` method of the scaler. This step converts the normalized predictions into actual stock prices.\n",
        "  1. In the provided code, the `inverse_transform` method is used to reverse the scaling transformation applied to the predicted stock prices before plotting and evaluation. \n",
        "\n",
        "  2. During the preprocessing step, the `MinMaxScaler` is applied to scale the original stock prices between the range of 0 and 1. This scaling is done to ensure that all input features are within a similar range and to improve the training performance of the LSTM model.\n",
        "\n",
        "  3. After training and obtaining the predicted stock prices, the `inverse_transform` method is used to revert the scaled predictions back to their original scale. This is necessary to compare the predicted values with the actual stock prices, which are also in their original scale.\n",
        "\n",
        "  4. By applying the inverse transformation, the predicted stock prices are converted back to their original range, allowing for a meaningful visual comparison and evaluation of the model's performance.\n",
        "\n",
        "11. **Visualize the predictions**: The code uses `matplotlib.pyplot` to plot the actual and predicted values. The training and validation actual values are plotted in blue and orange, respectively. The testing actual values are plotted in green, while the predicted values for training, validation, and testing are plotted in red, purple, and yellow, respectively. The resulting graph provides a visual representation of the model's performance in predicting Adani's stock prices.\n",
        "\n",
        "Overall, the code retrieves historical stock data, preprocesses and normalizes the data, builds and trains an LSTM model, makes predictions, and visualizes the actual and predicted stock prices."
      ],
      "metadata": {
        "id": "Pe_xkdhJKLTd"
      }
    },
    {
      "cell_type": "code",
      "source": [
        "#import necessary libraries\n",
        "import yfinance as yf\n",
        "import numpy as np\n",
        "from sklearn.preprocessing import MinMaxScaler\n",
        "from tensorflow.keras.models import Sequential\n",
        "from tensorflow.keras.layers import LSTM, Dense\n",
        "import matplotlib.pyplot as plt\n",
        "import pandas as pd\n",
        "import seaborn as sns"
      ],
      "metadata": {
        "id": "cd11wvZILZEF"
      },
      "execution_count": 13,
      "outputs": []
    },
    {
      "cell_type": "code",
      "source": [
        "# Step 1: Data collection\n",
        "# Retrieve historical data for Adani using yfinance\n",
        "stock_data = yf.download('ADANIPORTS.NS', start='2010-01-01', end='2022-12-31')"
      ],
      "metadata": {
        "colab": {
          "base_uri": "https://localhost:8080/"
        },
        "id": "He8LWes_LhL7",
        "outputId": "7ccd7d4b-aad6-40ea-f96b-ff0d60c66e97"
      },
      "execution_count": 2,
      "outputs": [
        {
          "output_type": "stream",
          "name": "stdout",
          "text": [
            "\r[*********************100%***********************]  1 of 1 completed\n"
          ]
        }
      ]
    },
    {
      "cell_type": "code",
      "source": [
        "stock_data.info()"
      ],
      "metadata": {
        "colab": {
          "base_uri": "https://localhost:8080/"
        },
        "id": "N1oThsUNLkkx",
        "outputId": "a8e79bb8-01df-4907-d0e4-1b9d4c8d9ca6"
      },
      "execution_count": 3,
      "outputs": [
        {
          "output_type": "stream",
          "name": "stdout",
          "text": [
            "<class 'pandas.core.frame.DataFrame'>\n",
            "DatetimeIndex: 3209 entries, 2010-01-04 to 2022-12-30\n",
            "Data columns (total 6 columns):\n",
            " #   Column     Non-Null Count  Dtype  \n",
            "---  ------     --------------  -----  \n",
            " 0   Open       3209 non-null   float64\n",
            " 1   High       3209 non-null   float64\n",
            " 2   Low        3209 non-null   float64\n",
            " 3   Close      3209 non-null   float64\n",
            " 4   Adj Close  3209 non-null   float64\n",
            " 5   Volume     3209 non-null   int64  \n",
            "dtypes: float64(5), int64(1)\n",
            "memory usage: 175.5 KB\n"
          ]
        }
      ]
    },
    {
      "cell_type": "code",
      "source": [
        "stock_data.head()"
      ],
      "metadata": {
        "colab": {
          "base_uri": "https://localhost:8080/",
          "height": 214
        },
        "id": "zOEIVfyKL0G2",
        "outputId": "7da744d5-067e-416a-b498-c1b8e7ba3e98"
      },
      "execution_count": 4,
      "outputs": [
        {
          "output_type": "execute_result",
          "data": {
            "text/plain": [
              "                  Open        High         Low       Close   Adj Close  \\\n",
              "Date                                                                     \n",
              "2010-01-04  111.000000  112.559998  110.699997  111.349998  103.490471   \n",
              "2010-01-05  111.959999  116.699997  111.800003  115.190002  107.059418   \n",
              "2010-01-06  115.800003  122.000000  113.070000  120.900002  112.366371   \n",
              "2010-01-07  121.489998  123.209999  119.000000  119.470001  111.037323   \n",
              "2010-01-08  119.400002  121.699997  118.639999  119.330002  110.907204   \n",
              "\n",
              "             Volume  \n",
              "Date                 \n",
              "2010-01-04  1079040  \n",
              "2010-01-05  2112500  \n",
              "2010-01-06  5761450  \n",
              "2010-01-07  3174260  \n",
              "2010-01-08  1220560  "
            ],
            "text/html": [
              "\n",
              "  <div id=\"df-37900737-6efa-4c74-b9ba-8e0fea801704\">\n",
              "    <div class=\"colab-df-container\">\n",
              "      <div>\n",
              "<style scoped>\n",
              "    .dataframe tbody tr th:only-of-type {\n",
              "        vertical-align: middle;\n",
              "    }\n",
              "\n",
              "    .dataframe tbody tr th {\n",
              "        vertical-align: top;\n",
              "    }\n",
              "\n",
              "    .dataframe thead th {\n",
              "        text-align: right;\n",
              "    }\n",
              "</style>\n",
              "<table border=\"1\" class=\"dataframe\">\n",
              "  <thead>\n",
              "    <tr style=\"text-align: right;\">\n",
              "      <th></th>\n",
              "      <th>Open</th>\n",
              "      <th>High</th>\n",
              "      <th>Low</th>\n",
              "      <th>Close</th>\n",
              "      <th>Adj Close</th>\n",
              "      <th>Volume</th>\n",
              "    </tr>\n",
              "    <tr>\n",
              "      <th>Date</th>\n",
              "      <th></th>\n",
              "      <th></th>\n",
              "      <th></th>\n",
              "      <th></th>\n",
              "      <th></th>\n",
              "      <th></th>\n",
              "    </tr>\n",
              "  </thead>\n",
              "  <tbody>\n",
              "    <tr>\n",
              "      <th>2010-01-04</th>\n",
              "      <td>111.000000</td>\n",
              "      <td>112.559998</td>\n",
              "      <td>110.699997</td>\n",
              "      <td>111.349998</td>\n",
              "      <td>103.490471</td>\n",
              "      <td>1079040</td>\n",
              "    </tr>\n",
              "    <tr>\n",
              "      <th>2010-01-05</th>\n",
              "      <td>111.959999</td>\n",
              "      <td>116.699997</td>\n",
              "      <td>111.800003</td>\n",
              "      <td>115.190002</td>\n",
              "      <td>107.059418</td>\n",
              "      <td>2112500</td>\n",
              "    </tr>\n",
              "    <tr>\n",
              "      <th>2010-01-06</th>\n",
              "      <td>115.800003</td>\n",
              "      <td>122.000000</td>\n",
              "      <td>113.070000</td>\n",
              "      <td>120.900002</td>\n",
              "      <td>112.366371</td>\n",
              "      <td>5761450</td>\n",
              "    </tr>\n",
              "    <tr>\n",
              "      <th>2010-01-07</th>\n",
              "      <td>121.489998</td>\n",
              "      <td>123.209999</td>\n",
              "      <td>119.000000</td>\n",
              "      <td>119.470001</td>\n",
              "      <td>111.037323</td>\n",
              "      <td>3174260</td>\n",
              "    </tr>\n",
              "    <tr>\n",
              "      <th>2010-01-08</th>\n",
              "      <td>119.400002</td>\n",
              "      <td>121.699997</td>\n",
              "      <td>118.639999</td>\n",
              "      <td>119.330002</td>\n",
              "      <td>110.907204</td>\n",
              "      <td>1220560</td>\n",
              "    </tr>\n",
              "  </tbody>\n",
              "</table>\n",
              "</div>\n",
              "      <button class=\"colab-df-convert\" onclick=\"convertToInteractive('df-37900737-6efa-4c74-b9ba-8e0fea801704')\"\n",
              "              title=\"Convert this dataframe to an interactive table.\"\n",
              "              style=\"display:none;\">\n",
              "        \n",
              "  <svg xmlns=\"http://www.w3.org/2000/svg\" height=\"24px\"viewBox=\"0 0 24 24\"\n",
              "       width=\"24px\">\n",
              "    <path d=\"M0 0h24v24H0V0z\" fill=\"none\"/>\n",
              "    <path d=\"M18.56 5.44l.94 2.06.94-2.06 2.06-.94-2.06-.94-.94-2.06-.94 2.06-2.06.94zm-11 1L8.5 8.5l.94-2.06 2.06-.94-2.06-.94L8.5 2.5l-.94 2.06-2.06.94zm10 10l.94 2.06.94-2.06 2.06-.94-2.06-.94-.94-2.06-.94 2.06-2.06.94z\"/><path d=\"M17.41 7.96l-1.37-1.37c-.4-.4-.92-.59-1.43-.59-.52 0-1.04.2-1.43.59L10.3 9.45l-7.72 7.72c-.78.78-.78 2.05 0 2.83L4 21.41c.39.39.9.59 1.41.59.51 0 1.02-.2 1.41-.59l7.78-7.78 2.81-2.81c.8-.78.8-2.07 0-2.86zM5.41 20L4 18.59l7.72-7.72 1.47 1.35L5.41 20z\"/>\n",
              "  </svg>\n",
              "      </button>\n",
              "      \n",
              "  <style>\n",
              "    .colab-df-container {\n",
              "      display:flex;\n",
              "      flex-wrap:wrap;\n",
              "      gap: 12px;\n",
              "    }\n",
              "\n",
              "    .colab-df-convert {\n",
              "      background-color: #E8F0FE;\n",
              "      border: none;\n",
              "      border-radius: 50%;\n",
              "      cursor: pointer;\n",
              "      display: none;\n",
              "      fill: #1967D2;\n",
              "      height: 32px;\n",
              "      padding: 0 0 0 0;\n",
              "      width: 32px;\n",
              "    }\n",
              "\n",
              "    .colab-df-convert:hover {\n",
              "      background-color: #E2EBFA;\n",
              "      box-shadow: 0px 1px 2px rgba(60, 64, 67, 0.3), 0px 1px 3px 1px rgba(60, 64, 67, 0.15);\n",
              "      fill: #174EA6;\n",
              "    }\n",
              "\n",
              "    [theme=dark] .colab-df-convert {\n",
              "      background-color: #3B4455;\n",
              "      fill: #D2E3FC;\n",
              "    }\n",
              "\n",
              "    [theme=dark] .colab-df-convert:hover {\n",
              "      background-color: #434B5C;\n",
              "      box-shadow: 0px 1px 3px 1px rgba(0, 0, 0, 0.15);\n",
              "      filter: drop-shadow(0px 1px 2px rgba(0, 0, 0, 0.3));\n",
              "      fill: #FFFFFF;\n",
              "    }\n",
              "  </style>\n",
              "\n",
              "      <script>\n",
              "        const buttonEl =\n",
              "          document.querySelector('#df-37900737-6efa-4c74-b9ba-8e0fea801704 button.colab-df-convert');\n",
              "        buttonEl.style.display =\n",
              "          google.colab.kernel.accessAllowed ? 'block' : 'none';\n",
              "\n",
              "        async function convertToInteractive(key) {\n",
              "          const element = document.querySelector('#df-37900737-6efa-4c74-b9ba-8e0fea801704');\n",
              "          const dataTable =\n",
              "            await google.colab.kernel.invokeFunction('convertToInteractive',\n",
              "                                                     [key], {});\n",
              "          if (!dataTable) return;\n",
              "\n",
              "          const docLinkHtml = 'Like what you see? Visit the ' +\n",
              "            '<a target=\"_blank\" href=https://colab.research.google.com/notebooks/data_table.ipynb>data table notebook</a>'\n",
              "            + ' to learn more about interactive tables.';\n",
              "          element.innerHTML = '';\n",
              "          dataTable['output_type'] = 'display_data';\n",
              "          await google.colab.output.renderOutput(dataTable, element);\n",
              "          const docLink = document.createElement('div');\n",
              "          docLink.innerHTML = docLinkHtml;\n",
              "          element.appendChild(docLink);\n",
              "        }\n",
              "      </script>\n",
              "    </div>\n",
              "  </div>\n",
              "  "
            ]
          },
          "metadata": {},
          "execution_count": 4
        }
      ]
    },
    {
      "cell_type": "code",
      "source": [
        "stock_data.tail()"
      ],
      "metadata": {
        "colab": {
          "base_uri": "https://localhost:8080/",
          "height": 238
        },
        "id": "_-QcfUBRL3Cf",
        "outputId": "607c07ae-f2d7-4862-fda1-450f22451189"
      },
      "execution_count": 5,
      "outputs": [
        {
          "output_type": "execute_result",
          "data": {
            "text/plain": [
              "                  Open        High         Low       Close   Adj Close  \\\n",
              "Date                                                                     \n",
              "2022-12-26  798.000000  812.000000  785.299988  806.049988  806.049988   \n",
              "2022-12-27  810.099976  821.200012  798.099976  817.150024  817.150024   \n",
              "2022-12-28  815.750000  817.000000  808.799988  810.349976  810.349976   \n",
              "2022-12-29  807.000000  822.500000  799.549988  819.549988  819.549988   \n",
              "2022-12-30  822.450012  826.750000  815.599976  818.099976  818.099976   \n",
              "\n",
              "             Volume  \n",
              "Date                 \n",
              "2022-12-26  7205540  \n",
              "2022-12-27  4872234  \n",
              "2022-12-28  3624974  \n",
              "2022-12-29  5308353  \n",
              "2022-12-30  3252956  "
            ],
            "text/html": [
              "\n",
              "  <div id=\"df-22f2eaf2-8cc8-488b-ba34-bfe66649a628\">\n",
              "    <div class=\"colab-df-container\">\n",
              "      <div>\n",
              "<style scoped>\n",
              "    .dataframe tbody tr th:only-of-type {\n",
              "        vertical-align: middle;\n",
              "    }\n",
              "\n",
              "    .dataframe tbody tr th {\n",
              "        vertical-align: top;\n",
              "    }\n",
              "\n",
              "    .dataframe thead th {\n",
              "        text-align: right;\n",
              "    }\n",
              "</style>\n",
              "<table border=\"1\" class=\"dataframe\">\n",
              "  <thead>\n",
              "    <tr style=\"text-align: right;\">\n",
              "      <th></th>\n",
              "      <th>Open</th>\n",
              "      <th>High</th>\n",
              "      <th>Low</th>\n",
              "      <th>Close</th>\n",
              "      <th>Adj Close</th>\n",
              "      <th>Volume</th>\n",
              "    </tr>\n",
              "    <tr>\n",
              "      <th>Date</th>\n",
              "      <th></th>\n",
              "      <th></th>\n",
              "      <th></th>\n",
              "      <th></th>\n",
              "      <th></th>\n",
              "      <th></th>\n",
              "    </tr>\n",
              "  </thead>\n",
              "  <tbody>\n",
              "    <tr>\n",
              "      <th>2022-12-26</th>\n",
              "      <td>798.000000</td>\n",
              "      <td>812.000000</td>\n",
              "      <td>785.299988</td>\n",
              "      <td>806.049988</td>\n",
              "      <td>806.049988</td>\n",
              "      <td>7205540</td>\n",
              "    </tr>\n",
              "    <tr>\n",
              "      <th>2022-12-27</th>\n",
              "      <td>810.099976</td>\n",
              "      <td>821.200012</td>\n",
              "      <td>798.099976</td>\n",
              "      <td>817.150024</td>\n",
              "      <td>817.150024</td>\n",
              "      <td>4872234</td>\n",
              "    </tr>\n",
              "    <tr>\n",
              "      <th>2022-12-28</th>\n",
              "      <td>815.750000</td>\n",
              "      <td>817.000000</td>\n",
              "      <td>808.799988</td>\n",
              "      <td>810.349976</td>\n",
              "      <td>810.349976</td>\n",
              "      <td>3624974</td>\n",
              "    </tr>\n",
              "    <tr>\n",
              "      <th>2022-12-29</th>\n",
              "      <td>807.000000</td>\n",
              "      <td>822.500000</td>\n",
              "      <td>799.549988</td>\n",
              "      <td>819.549988</td>\n",
              "      <td>819.549988</td>\n",
              "      <td>5308353</td>\n",
              "    </tr>\n",
              "    <tr>\n",
              "      <th>2022-12-30</th>\n",
              "      <td>822.450012</td>\n",
              "      <td>826.750000</td>\n",
              "      <td>815.599976</td>\n",
              "      <td>818.099976</td>\n",
              "      <td>818.099976</td>\n",
              "      <td>3252956</td>\n",
              "    </tr>\n",
              "  </tbody>\n",
              "</table>\n",
              "</div>\n",
              "      <button class=\"colab-df-convert\" onclick=\"convertToInteractive('df-22f2eaf2-8cc8-488b-ba34-bfe66649a628')\"\n",
              "              title=\"Convert this dataframe to an interactive table.\"\n",
              "              style=\"display:none;\">\n",
              "        \n",
              "  <svg xmlns=\"http://www.w3.org/2000/svg\" height=\"24px\"viewBox=\"0 0 24 24\"\n",
              "       width=\"24px\">\n",
              "    <path d=\"M0 0h24v24H0V0z\" fill=\"none\"/>\n",
              "    <path d=\"M18.56 5.44l.94 2.06.94-2.06 2.06-.94-2.06-.94-.94-2.06-.94 2.06-2.06.94zm-11 1L8.5 8.5l.94-2.06 2.06-.94-2.06-.94L8.5 2.5l-.94 2.06-2.06.94zm10 10l.94 2.06.94-2.06 2.06-.94-2.06-.94-.94-2.06-.94 2.06-2.06.94z\"/><path d=\"M17.41 7.96l-1.37-1.37c-.4-.4-.92-.59-1.43-.59-.52 0-1.04.2-1.43.59L10.3 9.45l-7.72 7.72c-.78.78-.78 2.05 0 2.83L4 21.41c.39.39.9.59 1.41.59.51 0 1.02-.2 1.41-.59l7.78-7.78 2.81-2.81c.8-.78.8-2.07 0-2.86zM5.41 20L4 18.59l7.72-7.72 1.47 1.35L5.41 20z\"/>\n",
              "  </svg>\n",
              "      </button>\n",
              "      \n",
              "  <style>\n",
              "    .colab-df-container {\n",
              "      display:flex;\n",
              "      flex-wrap:wrap;\n",
              "      gap: 12px;\n",
              "    }\n",
              "\n",
              "    .colab-df-convert {\n",
              "      background-color: #E8F0FE;\n",
              "      border: none;\n",
              "      border-radius: 50%;\n",
              "      cursor: pointer;\n",
              "      display: none;\n",
              "      fill: #1967D2;\n",
              "      height: 32px;\n",
              "      padding: 0 0 0 0;\n",
              "      width: 32px;\n",
              "    }\n",
              "\n",
              "    .colab-df-convert:hover {\n",
              "      background-color: #E2EBFA;\n",
              "      box-shadow: 0px 1px 2px rgba(60, 64, 67, 0.3), 0px 1px 3px 1px rgba(60, 64, 67, 0.15);\n",
              "      fill: #174EA6;\n",
              "    }\n",
              "\n",
              "    [theme=dark] .colab-df-convert {\n",
              "      background-color: #3B4455;\n",
              "      fill: #D2E3FC;\n",
              "    }\n",
              "\n",
              "    [theme=dark] .colab-df-convert:hover {\n",
              "      background-color: #434B5C;\n",
              "      box-shadow: 0px 1px 3px 1px rgba(0, 0, 0, 0.15);\n",
              "      filter: drop-shadow(0px 1px 2px rgba(0, 0, 0, 0.3));\n",
              "      fill: #FFFFFF;\n",
              "    }\n",
              "  </style>\n",
              "\n",
              "      <script>\n",
              "        const buttonEl =\n",
              "          document.querySelector('#df-22f2eaf2-8cc8-488b-ba34-bfe66649a628 button.colab-df-convert');\n",
              "        buttonEl.style.display =\n",
              "          google.colab.kernel.accessAllowed ? 'block' : 'none';\n",
              "\n",
              "        async function convertToInteractive(key) {\n",
              "          const element = document.querySelector('#df-22f2eaf2-8cc8-488b-ba34-bfe66649a628');\n",
              "          const dataTable =\n",
              "            await google.colab.kernel.invokeFunction('convertToInteractive',\n",
              "                                                     [key], {});\n",
              "          if (!dataTable) return;\n",
              "\n",
              "          const docLinkHtml = 'Like what you see? Visit the ' +\n",
              "            '<a target=\"_blank\" href=https://colab.research.google.com/notebooks/data_table.ipynb>data table notebook</a>'\n",
              "            + ' to learn more about interactive tables.';\n",
              "          element.innerHTML = '';\n",
              "          dataTable['output_type'] = 'display_data';\n",
              "          await google.colab.output.renderOutput(dataTable, element);\n",
              "          const docLink = document.createElement('div');\n",
              "          docLink.innerHTML = docLinkHtml;\n",
              "          element.appendChild(docLink);\n",
              "        }\n",
              "      </script>\n",
              "    </div>\n",
              "  </div>\n",
              "  "
            ]
          },
          "metadata": {},
          "execution_count": 5
        }
      ]
    },
    {
      "cell_type": "code",
      "source": [
        "stock_data.isnull()"
      ],
      "metadata": {
        "colab": {
          "base_uri": "https://localhost:8080/",
          "height": 455
        },
        "id": "8-wgFaldNyz4",
        "outputId": "aa9d9f8e-290d-4edd-f805-7412f13acd97"
      },
      "execution_count": 6,
      "outputs": [
        {
          "output_type": "execute_result",
          "data": {
            "text/plain": [
              "             Open   High    Low  Close  Adj Close  Volume\n",
              "Date                                                     \n",
              "2010-01-04  False  False  False  False      False   False\n",
              "2010-01-05  False  False  False  False      False   False\n",
              "2010-01-06  False  False  False  False      False   False\n",
              "2010-01-07  False  False  False  False      False   False\n",
              "2010-01-08  False  False  False  False      False   False\n",
              "...           ...    ...    ...    ...        ...     ...\n",
              "2022-12-26  False  False  False  False      False   False\n",
              "2022-12-27  False  False  False  False      False   False\n",
              "2022-12-28  False  False  False  False      False   False\n",
              "2022-12-29  False  False  False  False      False   False\n",
              "2022-12-30  False  False  False  False      False   False\n",
              "\n",
              "[3209 rows x 6 columns]"
            ],
            "text/html": [
              "\n",
              "  <div id=\"df-20196ada-74ab-4d2f-8b17-4cd914728eff\">\n",
              "    <div class=\"colab-df-container\">\n",
              "      <div>\n",
              "<style scoped>\n",
              "    .dataframe tbody tr th:only-of-type {\n",
              "        vertical-align: middle;\n",
              "    }\n",
              "\n",
              "    .dataframe tbody tr th {\n",
              "        vertical-align: top;\n",
              "    }\n",
              "\n",
              "    .dataframe thead th {\n",
              "        text-align: right;\n",
              "    }\n",
              "</style>\n",
              "<table border=\"1\" class=\"dataframe\">\n",
              "  <thead>\n",
              "    <tr style=\"text-align: right;\">\n",
              "      <th></th>\n",
              "      <th>Open</th>\n",
              "      <th>High</th>\n",
              "      <th>Low</th>\n",
              "      <th>Close</th>\n",
              "      <th>Adj Close</th>\n",
              "      <th>Volume</th>\n",
              "    </tr>\n",
              "    <tr>\n",
              "      <th>Date</th>\n",
              "      <th></th>\n",
              "      <th></th>\n",
              "      <th></th>\n",
              "      <th></th>\n",
              "      <th></th>\n",
              "      <th></th>\n",
              "    </tr>\n",
              "  </thead>\n",
              "  <tbody>\n",
              "    <tr>\n",
              "      <th>2010-01-04</th>\n",
              "      <td>False</td>\n",
              "      <td>False</td>\n",
              "      <td>False</td>\n",
              "      <td>False</td>\n",
              "      <td>False</td>\n",
              "      <td>False</td>\n",
              "    </tr>\n",
              "    <tr>\n",
              "      <th>2010-01-05</th>\n",
              "      <td>False</td>\n",
              "      <td>False</td>\n",
              "      <td>False</td>\n",
              "      <td>False</td>\n",
              "      <td>False</td>\n",
              "      <td>False</td>\n",
              "    </tr>\n",
              "    <tr>\n",
              "      <th>2010-01-06</th>\n",
              "      <td>False</td>\n",
              "      <td>False</td>\n",
              "      <td>False</td>\n",
              "      <td>False</td>\n",
              "      <td>False</td>\n",
              "      <td>False</td>\n",
              "    </tr>\n",
              "    <tr>\n",
              "      <th>2010-01-07</th>\n",
              "      <td>False</td>\n",
              "      <td>False</td>\n",
              "      <td>False</td>\n",
              "      <td>False</td>\n",
              "      <td>False</td>\n",
              "      <td>False</td>\n",
              "    </tr>\n",
              "    <tr>\n",
              "      <th>2010-01-08</th>\n",
              "      <td>False</td>\n",
              "      <td>False</td>\n",
              "      <td>False</td>\n",
              "      <td>False</td>\n",
              "      <td>False</td>\n",
              "      <td>False</td>\n",
              "    </tr>\n",
              "    <tr>\n",
              "      <th>...</th>\n",
              "      <td>...</td>\n",
              "      <td>...</td>\n",
              "      <td>...</td>\n",
              "      <td>...</td>\n",
              "      <td>...</td>\n",
              "      <td>...</td>\n",
              "    </tr>\n",
              "    <tr>\n",
              "      <th>2022-12-26</th>\n",
              "      <td>False</td>\n",
              "      <td>False</td>\n",
              "      <td>False</td>\n",
              "      <td>False</td>\n",
              "      <td>False</td>\n",
              "      <td>False</td>\n",
              "    </tr>\n",
              "    <tr>\n",
              "      <th>2022-12-27</th>\n",
              "      <td>False</td>\n",
              "      <td>False</td>\n",
              "      <td>False</td>\n",
              "      <td>False</td>\n",
              "      <td>False</td>\n",
              "      <td>False</td>\n",
              "    </tr>\n",
              "    <tr>\n",
              "      <th>2022-12-28</th>\n",
              "      <td>False</td>\n",
              "      <td>False</td>\n",
              "      <td>False</td>\n",
              "      <td>False</td>\n",
              "      <td>False</td>\n",
              "      <td>False</td>\n",
              "    </tr>\n",
              "    <tr>\n",
              "      <th>2022-12-29</th>\n",
              "      <td>False</td>\n",
              "      <td>False</td>\n",
              "      <td>False</td>\n",
              "      <td>False</td>\n",
              "      <td>False</td>\n",
              "      <td>False</td>\n",
              "    </tr>\n",
              "    <tr>\n",
              "      <th>2022-12-30</th>\n",
              "      <td>False</td>\n",
              "      <td>False</td>\n",
              "      <td>False</td>\n",
              "      <td>False</td>\n",
              "      <td>False</td>\n",
              "      <td>False</td>\n",
              "    </tr>\n",
              "  </tbody>\n",
              "</table>\n",
              "<p>3209 rows × 6 columns</p>\n",
              "</div>\n",
              "      <button class=\"colab-df-convert\" onclick=\"convertToInteractive('df-20196ada-74ab-4d2f-8b17-4cd914728eff')\"\n",
              "              title=\"Convert this dataframe to an interactive table.\"\n",
              "              style=\"display:none;\">\n",
              "        \n",
              "  <svg xmlns=\"http://www.w3.org/2000/svg\" height=\"24px\"viewBox=\"0 0 24 24\"\n",
              "       width=\"24px\">\n",
              "    <path d=\"M0 0h24v24H0V0z\" fill=\"none\"/>\n",
              "    <path d=\"M18.56 5.44l.94 2.06.94-2.06 2.06-.94-2.06-.94-.94-2.06-.94 2.06-2.06.94zm-11 1L8.5 8.5l.94-2.06 2.06-.94-2.06-.94L8.5 2.5l-.94 2.06-2.06.94zm10 10l.94 2.06.94-2.06 2.06-.94-2.06-.94-.94-2.06-.94 2.06-2.06.94z\"/><path d=\"M17.41 7.96l-1.37-1.37c-.4-.4-.92-.59-1.43-.59-.52 0-1.04.2-1.43.59L10.3 9.45l-7.72 7.72c-.78.78-.78 2.05 0 2.83L4 21.41c.39.39.9.59 1.41.59.51 0 1.02-.2 1.41-.59l7.78-7.78 2.81-2.81c.8-.78.8-2.07 0-2.86zM5.41 20L4 18.59l7.72-7.72 1.47 1.35L5.41 20z\"/>\n",
              "  </svg>\n",
              "      </button>\n",
              "      \n",
              "  <style>\n",
              "    .colab-df-container {\n",
              "      display:flex;\n",
              "      flex-wrap:wrap;\n",
              "      gap: 12px;\n",
              "    }\n",
              "\n",
              "    .colab-df-convert {\n",
              "      background-color: #E8F0FE;\n",
              "      border: none;\n",
              "      border-radius: 50%;\n",
              "      cursor: pointer;\n",
              "      display: none;\n",
              "      fill: #1967D2;\n",
              "      height: 32px;\n",
              "      padding: 0 0 0 0;\n",
              "      width: 32px;\n",
              "    }\n",
              "\n",
              "    .colab-df-convert:hover {\n",
              "      background-color: #E2EBFA;\n",
              "      box-shadow: 0px 1px 2px rgba(60, 64, 67, 0.3), 0px 1px 3px 1px rgba(60, 64, 67, 0.15);\n",
              "      fill: #174EA6;\n",
              "    }\n",
              "\n",
              "    [theme=dark] .colab-df-convert {\n",
              "      background-color: #3B4455;\n",
              "      fill: #D2E3FC;\n",
              "    }\n",
              "\n",
              "    [theme=dark] .colab-df-convert:hover {\n",
              "      background-color: #434B5C;\n",
              "      box-shadow: 0px 1px 3px 1px rgba(0, 0, 0, 0.15);\n",
              "      filter: drop-shadow(0px 1px 2px rgba(0, 0, 0, 0.3));\n",
              "      fill: #FFFFFF;\n",
              "    }\n",
              "  </style>\n",
              "\n",
              "      <script>\n",
              "        const buttonEl =\n",
              "          document.querySelector('#df-20196ada-74ab-4d2f-8b17-4cd914728eff button.colab-df-convert');\n",
              "        buttonEl.style.display =\n",
              "          google.colab.kernel.accessAllowed ? 'block' : 'none';\n",
              "\n",
              "        async function convertToInteractive(key) {\n",
              "          const element = document.querySelector('#df-20196ada-74ab-4d2f-8b17-4cd914728eff');\n",
              "          const dataTable =\n",
              "            await google.colab.kernel.invokeFunction('convertToInteractive',\n",
              "                                                     [key], {});\n",
              "          if (!dataTable) return;\n",
              "\n",
              "          const docLinkHtml = 'Like what you see? Visit the ' +\n",
              "            '<a target=\"_blank\" href=https://colab.research.google.com/notebooks/data_table.ipynb>data table notebook</a>'\n",
              "            + ' to learn more about interactive tables.';\n",
              "          element.innerHTML = '';\n",
              "          dataTable['output_type'] = 'display_data';\n",
              "          await google.colab.output.renderOutput(dataTable, element);\n",
              "          const docLink = document.createElement('div');\n",
              "          docLink.innerHTML = docLinkHtml;\n",
              "          element.appendChild(docLink);\n",
              "        }\n",
              "      </script>\n",
              "    </div>\n",
              "  </div>\n",
              "  "
            ]
          },
          "metadata": {},
          "execution_count": 6
        }
      ]
    },
    {
      "cell_type": "code",
      "source": [
        "stock_data.isnull().sum()"
      ],
      "metadata": {
        "colab": {
          "base_uri": "https://localhost:8080/"
        },
        "id": "8Jtygye7N4dm",
        "outputId": "f70d32f9-362a-4d4f-c16d-4be72978814b"
      },
      "execution_count": 8,
      "outputs": [
        {
          "output_type": "execute_result",
          "data": {
            "text/plain": [
              "Open         0\n",
              "High         0\n",
              "Low          0\n",
              "Close        0\n",
              "Adj Close    0\n",
              "Volume       0\n",
              "dtype: int64"
            ]
          },
          "metadata": {},
          "execution_count": 8
        }
      ]
    },
    {
      "cell_type": "code",
      "source": [
        "stock_data.columns"
      ],
      "metadata": {
        "colab": {
          "base_uri": "https://localhost:8080/"
        },
        "id": "HQhbjMkAOFBH",
        "outputId": "7bf5ff0c-1061-46f4-8cf2-b57c363553c0"
      },
      "execution_count": 9,
      "outputs": [
        {
          "output_type": "execute_result",
          "data": {
            "text/plain": [
              "Index(['Open', 'High', 'Low', 'Close', 'Adj Close', 'Volume'], dtype='object')"
            ]
          },
          "metadata": {},
          "execution_count": 9
        }
      ]
    },
    {
      "cell_type": "markdown",
      "source": [
        "In the provided code snippet, the columns 'Open', 'High', 'Low', 'Close', 'Volume', and 'Adj Close' are chosen to create the correlation matrix. These columns are commonly used in financial analysis and provide information about various aspects of a stock's trading activity. \n",
        "\n",
        "- 'Open': The opening price of the stock for a given time period.\n",
        "- 'High': The highest price reached by the stock during a given time period.\n",
        "- 'Low': The lowest price reached by the stock during a given time period.\n",
        "- 'Close': The closing price of the stock for a given time period.\n",
        "- 'Volume': The number of shares traded during a given time period.\n",
        "- 'Adj Close': The adjusted closing price of the stock, which takes into account factors such as dividends and stock splits.\n",
        "\n",
        "Including these columns allows for a comprehensive analysis of the stock's behavior and its relationship with other variables. However, the choice of columns may vary depending on the specific analysis or requirements of the task at hand."
      ],
      "metadata": {
        "id": "DAWIvaQ4QIlw"
      }
    },
    {
      "cell_type": "code",
      "source": [
        "correlation_matrix = stock_data.corr()\n",
        "\n",
        "print(\"Correlation Matrix:\")\n",
        "print(correlation_matrix)"
      ],
      "metadata": {
        "colab": {
          "base_uri": "https://localhost:8080/"
        },
        "id": "rvgvBisqOo6n",
        "outputId": "d1f0d8ba-21ba-4beb-e9d8-8fa3aef975f5"
      },
      "execution_count": 12,
      "outputs": [
        {
          "output_type": "stream",
          "name": "stdout",
          "text": [
            "Correlation Matrix:\n",
            "               Open      High       Low     Close  Adj Close    Volume\n",
            "Open       1.000000  0.999619  0.999534  0.999187   0.999117  0.427324\n",
            "High       0.999619  1.000000  0.999429  0.999661   0.999583  0.438358\n",
            "Low        0.999534  0.999429  1.000000  0.999617   0.999542  0.419398\n",
            "Close      0.999187  0.999661  0.999617  1.000000   0.999913  0.430592\n",
            "Adj Close  0.999117  0.999583  0.999542  0.999913   1.000000  0.429373\n",
            "Volume     0.427324  0.438358  0.419398  0.430592   0.429373  1.000000\n"
          ]
        }
      ]
    },
    {
      "cell_type": "code",
      "source": [
        "#plt.figure(figsize=(10, 8))\n",
        "#sns.heatmap(correlation_matrix, annot=True, cmap='coolwarm')\n",
        "#plt.title('Correlation Matrix')\n",
        "#plt.show()"
      ],
      "metadata": {
        "id": "XoAVEO8ZPkQQ"
      },
      "execution_count": null,
      "outputs": []
    },
    {
      "cell_type": "code",
      "source": [
        "# Step 2: Data preprocessing\n",
        "# Extract the 'Close' prices\n",
        "df = stock_data[['Close']]"
      ],
      "metadata": {
        "id": "QRGl1uSgQjL0"
      },
      "execution_count": 15,
      "outputs": []
    },
    {
      "cell_type": "code",
      "source": [
        "# Step 3: Data normalization\n",
        "scaler = MinMaxScaler(feature_range=(0, 1))\n",
        "scaled_data = scaler.fit_transform(df)"
      ],
      "metadata": {
        "id": "-hze7xf-Qomh"
      },
      "execution_count": 16,
      "outputs": []
    },
    {
      "cell_type": "code",
      "source": [
        "# Step 4: Prepare the data for LSTM\n",
        "window_size = 60  # Number of previous days to use as input for prediction"
      ],
      "metadata": {
        "id": "sDT_qNBYQrHT"
      },
      "execution_count": 17,
      "outputs": []
    },
    {
      "cell_type": "code",
      "source": [
        "X, y = [], []\n",
        "for i in range(window_size, len(scaled_data)):\n",
        "    X.append(scaled_data[i - window_size:i, 0])\n",
        "    y.append(scaled_data[i, 0])\n",
        "\n",
        "X, y = np.array(X), np.array(y)"
      ],
      "metadata": {
        "id": "zI3KE31qQurP"
      },
      "execution_count": 18,
      "outputs": []
    },
    {
      "cell_type": "code",
      "source": [
        "# Reshape the data for LSTM (input shape: [samples, time steps, features])\n",
        "X = np.reshape(X, (X.shape[0], X.shape[1], 1))"
      ],
      "metadata": {
        "id": "RVaKJLQjQxmC"
      },
      "execution_count": 19,
      "outputs": []
    },
    {
      "cell_type": "code",
      "source": [
        "# Step 5: Split the data into training, validation, and testing sets\n",
        "train_size = int(0.7 * len(X))\n",
        "val_size = int(0.15 * len(X))\n",
        "\n",
        "X_train, X_val, X_test = X[:train_size], X[train_size:train_size + val_size], X[train_size + val_size:]\n",
        "y_train, y_val, y_test = y[:train_size], y[train_size:train_size + val_size], y[train_size + val_size:]"
      ],
      "metadata": {
        "id": "H7VC6eKWQ0Wl"
      },
      "execution_count": 20,
      "outputs": []
    },
    {
      "cell_type": "code",
      "source": [
        "# Step 6: Build the LSTM model\n",
        "model = Sequential()\n",
        "model.add(LSTM(units=50, return_sequences=True, input_shape=(X.shape[1], 1)))\n",
        "model.add(LSTM(units=50))\n",
        "model.add(Dense(units=1))"
      ],
      "metadata": {
        "id": "hPEXsD_-Q3g4"
      },
      "execution_count": 21,
      "outputs": []
    },
    {
      "cell_type": "code",
      "source": [
        "# Step 7: Compile and train the model\n",
        "model.compile(optimizer='adam', loss='mean_squared_error')\n",
        "model.fit(X_train, y_train, epochs=10, batch_size=32, validation_data=(X_val, y_val))"
      ],
      "metadata": {
        "colab": {
          "base_uri": "https://localhost:8080/"
        },
        "id": "FAD8lBtHQ7GY",
        "outputId": "a0d0b8ba-9f1e-4aa5-b603-d343d0d1d942"
      },
      "execution_count": 22,
      "outputs": [
        {
          "output_type": "stream",
          "name": "stdout",
          "text": [
            "Epoch 1/10\n",
            "69/69 [==============================] - 15s 142ms/step - loss: 0.0026 - val_loss: 7.5758e-04\n",
            "Epoch 2/10\n",
            "69/69 [==============================] - 8s 121ms/step - loss: 2.3435e-04 - val_loss: 6.3678e-04\n",
            "Epoch 3/10\n",
            "69/69 [==============================] - 6s 87ms/step - loss: 2.2006e-04 - val_loss: 6.0718e-04\n",
            "Epoch 4/10\n",
            "69/69 [==============================] - 5s 75ms/step - loss: 2.0622e-04 - val_loss: 6.0255e-04\n",
            "Epoch 5/10\n",
            "69/69 [==============================] - 8s 116ms/step - loss: 1.8930e-04 - val_loss: 4.6929e-04\n",
            "Epoch 6/10\n",
            "69/69 [==============================] - 5s 68ms/step - loss: 1.7726e-04 - val_loss: 4.2835e-04\n",
            "Epoch 7/10\n",
            "69/69 [==============================] - 6s 86ms/step - loss: 1.7014e-04 - val_loss: 3.7197e-04\n",
            "Epoch 8/10\n",
            "69/69 [==============================] - 5s 67ms/step - loss: 1.6878e-04 - val_loss: 3.7177e-04\n",
            "Epoch 9/10\n",
            "69/69 [==============================] - 6s 83ms/step - loss: 1.5032e-04 - val_loss: 4.1073e-04\n",
            "Epoch 10/10\n",
            "69/69 [==============================] - 5s 69ms/step - loss: 1.4884e-04 - val_loss: 3.0726e-04\n"
          ]
        },
        {
          "output_type": "execute_result",
          "data": {
            "text/plain": [
              "<keras.callbacks.History at 0x7ff191416290>"
            ]
          },
          "metadata": {},
          "execution_count": 22
        }
      ]
    },
    {
      "cell_type": "code",
      "source": [
        "# Step 8: Make predictions\n",
        "train_predictions = model.predict(X_train)\n",
        "val_predictions = model.predict(X_val)\n",
        "test_predictions = model.predict(X_test)"
      ],
      "metadata": {
        "colab": {
          "base_uri": "https://localhost:8080/"
        },
        "id": "PzGx4oMkQ9bm",
        "outputId": "612120ab-e770-4157-8eea-d2900638fca1"
      },
      "execution_count": 23,
      "outputs": [
        {
          "output_type": "stream",
          "name": "stdout",
          "text": [
            "69/69 [==============================] - 2s 21ms/step\n",
            "15/15 [==============================] - 0s 20ms/step\n",
            "15/15 [==============================] - 0s 20ms/step\n"
          ]
        }
      ]
    },
    {
      "cell_type": "code",
      "source": [
        "# Inverse transform the predictions to get the actual stock prices\n",
        "train_predictions = scaler.inverse_transform(train_predictions)\n",
        "y_train = scaler.inverse_transform([y_train])\n",
        "val_predictions = scaler.inverse_transform(val_predictions)\n",
        "y_val = scaler.inverse_transform([y_val])\n",
        "test_predictions = scaler.inverse_transform(test_predictions)\n",
        "y_test = scaler.inverse_transform([y_test])"
      ],
      "metadata": {
        "id": "yMS3v1g9Q_4p"
      },
      "execution_count": 24,
      "outputs": []
    },
    {
      "cell_type": "code",
      "execution_count": 25,
      "metadata": {
        "colab": {
          "base_uri": "https://localhost:8080/",
          "height": 564
        },
        "id": "LlmUru6RJygC",
        "outputId": "5331f9dc-64c1-4151-eb08-881f5ee0a63f"
      },
      "outputs": [
        {
          "output_type": "display_data",
          "data": {
            "text/plain": [
              "<Figure size 1000x600 with 1 Axes>"
            ],
            "image/png": "[encoded data removed]"
          },
          "metadata": {}
        }
      ],
      "source": [
        "# Step 9: Visualize the predictions\n",
        "plt.figure(figsize=(10, 6))\n",
        "plt.plot(df.index[:train_size], y_train.flatten(), color='blue', label='Actual (Train)')\n",
        "plt.plot(df.index[train_size:train_size + val_size], y_val.flatten(), color='orange', label='Actual (Validation)')\n",
        "plt.plot(df.index[train_size + val_size:train_size + val_size + len(y_test.flatten())], y_test.flatten(), color='green', label='Actual (Test)')\n",
        "plt.plot(df.index[:train_size], train_predictions.flatten(), color='red', label='Predicted (Train)')\n",
        "plt.plot(df.index[train_size:train_size + val_size], val_predictions.flatten(), color='purple', label='Predicted (Validation)')\n",
        "plt.plot(df.index[train_size + val_size:train_size + val_size + len(test_predictions)], test_predictions.flatten(), color='yellow', label='Predicted (Test)')\n",
        "plt.xlabel('Date')\n",
        "plt.ylabel('Stock Price')\n",
        "plt.title('Adani Stock Price Prediction using LSTM')\n",
        "plt.legend()\n",
        "plt.show()\n"
      ]
    }
  ]
}